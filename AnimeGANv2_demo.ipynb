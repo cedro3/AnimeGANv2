{
 "cells": [
  {
   "cell_type": "markdown",
   "metadata": {
    "colab_type": "text",
    "id": "view-in-github"
   },
   "source": [
    "<a href=\"https://colab.research.google.com/github/cedro3/AnimeGANv2/blob/master/AnimeGANv2_demo.ipynb\" target=\"_parent\"><img src=\"https://colab.research.google.com/assets/colab-badge.svg\" alt=\"Open In Colab\"/></a>"
   ]
  },
  {
   "cell_type": "markdown",
   "metadata": {
    "id": "cCByfUVH4fMI"
   },
   "source": [
    "# セットアップ"
   ]
  },
  {
   "cell_type": "code",
   "execution_count": null,
   "metadata": {
    "id": "pjgPV6hgH4ra"
   },
   "outputs": [],
   "source": [
    "# tensorflowバージョン1.xをセレクト\n",
    "%tensorflow_version 1.x\n",
    "\n",
    "# Githubからコードをコピー\n",
    "!git clone  https://github.com/cedro3/AnimeGANv2.git\n",
    "%cd AnimeGANv2\n",
    "\n",
    "# vgg19重みのダウンロード\n",
    "!wget https://github.com/TachibanaYoshino/AnimeGAN/releases/download/vgg16%2F19.npy/vgg19.npy\n",
    "!cp /content/AnimeGANv2/vgg19.npy /content/AnimeGANv2/vgg19_weight\n",
    "!rm /content/AnimeGANv2/vgg19.npy"
   ]
  },
  {
   "cell_type": "markdown",
   "metadata": {
    "id": "9dPnQEDj4lbn"
   },
   "source": [
    "# 実写をアニメ画に変換\n",
    "--checkpoint_dir : 重みの指定\\\n",
    "--test_dir : 実写の保存してあるフォルダーの指定\\\n",
    "--style_name : サブフォルダー名の指定\\\n",
    "＊アニメ画は、images/output/サブフォルダー名、に保存されます。"
   ]
  },
  {
   "cell_type": "code",
   "execution_count": null,
   "metadata": {
    "id": "iLBJKxRnJaSw"
   },
   "outputs": [],
   "source": [
    "# 実写をアニメ画に変換（宮崎駿モデル）\n",
    "!python test.py --checkpoint_dir checkpoint/generator_Hayao_weight\\\n",
    "                --test_dir images/input\\\n",
    "                --style_name Hayao"
   ]
  },
  {
   "cell_type": "code",
   "execution_count": null,
   "metadata": {
    "id": "ltkCgRhM6RzH"
   },
   "outputs": [],
   "source": [
    "# 実写をアニメ画に変換（新海誠モデル）\n",
    "!python test.py --checkpoint_dir checkpoint/generator_Shinkai_weight\\\n",
    "                --test_dir images/input\\\n",
    "                --style_name Shinkai"
   ]
  },
  {
   "cell_type": "code",
   "execution_count": null,
   "metadata": {
    "id": "Em-d-3Ch6R-o"
   },
   "outputs": [],
   "source": [
    "# 実写をアニメ画に変換（パプリカモデル）\n",
    "!python test.py --checkpoint_dir checkpoint/generator_Paprika_weight\\\n",
    "                --test_dir images/input\\\n",
    "                --style_name Paprika"
   ]
  },
  {
   "cell_type": "markdown",
   "metadata": {
    "id": "O1ShjaT64u3n"
   },
   "source": [
    "# 実写動画をアニメ動画に変換\n",
    "--checkpoint_dir : 重みの指定\\\n",
    "--video : 実写動画名の指定\\\n",
    "--output : アニメ動画を保存するフォルダー名の指定\n"
   ]
  },
  {
   "cell_type": "code",
   "execution_count": null,
   "metadata": {
    "id": "qCXBgCsoM9-m"
   },
   "outputs": [],
   "source": [
    "# 実写動画をアニメ動画に変換（宮崎駿モデル）\n",
    "!python video2anime.py --checkpoint_dir checkpoint/generator_Hayao_weight\\\n",
    "                       --video video/input/sample.mp4\\\n",
    "                       --output video/output/Hayao"
   ]
  },
  {
   "cell_type": "code",
   "execution_count": null,
   "metadata": {
    "id": "TcJvLOPinmD5"
   },
   "outputs": [],
   "source": [
    "# 実写動画をアニメ動画に変換（新海誠モデル）\n",
    "!python video2anime.py --checkpoint_dir checkpoint/generator_Shinkai_weight\\\n",
    "                       --video video/input/sample.mp4\\\n",
    "                       --output video/output/Shinkai"
   ]
  },
  {
   "cell_type": "code",
   "execution_count": null,
   "metadata": {
    "id": "Kkca1G6Ook43"
   },
   "outputs": [],
   "source": [
    "# 実写動画をアニメ動画に変換（パプリカモデル）\n",
    "!python video2anime.py --checkpoint_dir checkpoint/generator_Paprika_weight\\\n",
    "                       --video video/input/sample.mp4\\\n",
    "                       --output video/output/Paprika"
   ]
  }
 ],
 "metadata": {
  "accelerator": "GPU",
  "colab": {
   "authorship_tag": "ABX9TyN+Ge23GM+eQKug9TREJsq+",
   "include_colab_link": true,
   "mount_file_id": "1MymVo0dyRKg5wXBA-C5qG8uYfIW4nl6G",
   "name": "AnimeGANv2_demo",
   "provenance": []
  },
  "kernelspec": {
   "display_name": "Python 3",
   "language": "python",
   "name": "python3"
  },
  "language_info": {
   "codemirror_mode": {
    "name": "ipython",
    "version": 3
   },
   "file_extension": ".py",
   "mimetype": "text/x-python",
   "name": "python",
   "nbconvert_exporter": "python",
   "pygments_lexer": "ipython3",
   "version": "3.7.9"
  }
 },
 "nbformat": 4,
 "nbformat_minor": 1
}
