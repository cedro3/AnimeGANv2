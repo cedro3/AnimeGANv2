{
  "nbformat": 4,
  "nbformat_minor": 0,
  "metadata": {
    "accelerator": "GPU",
    "colab": {
      "name": "AnimeGANv2_demo",
      "provenance": [],
      "mount_file_id": "1MymVo0dyRKg5wXBA-C5qG8uYfIW4nl6G",
      "authorship_tag": "ABX9TyN+Ge23GM+eQKug9TREJsq+",
      "include_colab_link": true
    },
    "kernelspec": {
      "display_name": "Python 3",
      "name": "python3"
    }
  },
  "cells": [
    {
      "cell_type": "markdown",
      "metadata": {
        "id": "view-in-github",
        "colab_type": "text"
      },
      "source": [
        "<a href=\"https://colab.research.google.com/github/cedro3/AnimeGANv2/blob/master/AnimeGANv2_demo.ipynb\" target=\"_parent\"><img src=\"https://colab.research.google.com/assets/colab-badge.svg\" alt=\"Open In Colab\"/></a>"
      ]
    },
    {
      "cell_type": "markdown",
      "metadata": {
        "id": "cCByfUVH4fMI"
      },
      "source": [
        "# セットアップ"
      ]
    },
    {
      "cell_type": "code",
      "metadata": {
        "id": "pjgPV6hgH4ra"
      },
      "source": [
        "# tensorflowバージョン1.xをセレクト\n",
        "%tensorflow_version 1.x\n",
        "\n",
        "# Githubからコードをコピー\n",
        "!git clone  https://github.com/cedro3/AnimeGANv2.git\n",
        "%cd AnimeGANv2\n",
        "\n",
        "# vgg19重みのダウンロード\n",
        "!wget https://github.com/TachibanaYoshino/AnimeGAN/releases/download/vgg16%2F19.npy/vgg19.npy\n",
        "!cp /content/AnimeGANv2/vgg19.npy /content/AnimeGANv2/vgg19_weight\n",
        "!rm /content/AnimeGANv2/vgg19.npy"
      ],
      "execution_count": null,
      "outputs": []
    },
    {
      "cell_type": "markdown",
      "metadata": {
        "id": "9dPnQEDj4lbn"
      },
      "source": [
        "# 実写をアニメ画に変換\n",
        "--checkpoint_dir : 重みの指定\\\n",
        "--test_dir : 実写の保存してあるフォルダーの指定\\\n",
        "--style_name : サブフォルダー名の指定\\\n",
        "＊アニメ画は、images/output/サブフォルダー名、に保存されます。"
      ]
    },
    {
      "cell_type": "code",
      "metadata": {
        "id": "iLBJKxRnJaSw"
      },
      "source": [
        "# 実写をアニメ画に変換（宮崎駿モデル）\n",
        "!python test.py --checkpoint_dir checkpoint/generator_Hayao_weight\\\n",
        "                       --test_dir images/input\\\n",
        "                       --style_name Hayao\\"
      ],
      "execution_count": null,
      "outputs": []
    },
    {
      "cell_type": "code",
      "metadata": {
        "id": "ltkCgRhM6RzH"
      },
      "source": [
        "# 実写をアニメ画に変換（新海誠モデル）\n",
        "!python test.py --checkpoint_dir checkpoint/generator_Shinkai_weight\\\n",
        "                       --test_dir images/input\\\n",
        "                       --style_name Shinkai"
      ],
      "execution_count": null,
      "outputs": []
    },
    {
      "cell_type": "code",
      "metadata": {
        "id": "Em-d-3Ch6R-o"
      },
      "source": [
        "# 実写をアニメ画に変換（パプリカモデル）\n",
        "!python test.py --checkpoint_dir checkpoint/generator_Paprika_weight\\\n",
        "                       --test_dir images/input\\\n",
        "                       --style_name Paprika"
      ],
      "execution_count": null,
      "outputs": []
    },
    {
      "cell_type": "markdown",
      "metadata": {
        "id": "O1ShjaT64u3n"
      },
      "source": [
        "# 実写動画をアニメ動画に変換\n",
        "--video : 実写動画名の指定\\\n",
        "--checkpoint_dir : 重みの指定\\\n",
        "--output : アニメ動画を保存するフォルダー名の指定\n"
      ]
    },
    {
      "cell_type": "code",
      "metadata": {
        "id": "qCXBgCsoM9-m"
      },
      "source": [
        "# 実写動画をアニメ動画に変換（宮崎駿モデル）\n",
        "!python video2anime.py --video video/input/sakura.mp4\\\n",
        "                                     --checkpoint_dir checkpoint/generator_Hayao_weight\\\n",
        "                                     --output video/output/Hayao"
      ],
      "execution_count": null,
      "outputs": []
    },
    {
      "cell_type": "code",
      "metadata": {
        "id": "TcJvLOPinmD5"
      },
      "source": [
        "# 実写動画をアニメ動画に変換（新海誠モデル）\n",
        "!python video2anime.py --video video/input/sakura.mp4\\\n",
        "                                     --checkpoint_dir checkpoint/generator_Shinkai_weight\\\n",
        "                                     --output video/output/Shinkai"
      ],
      "execution_count": null,
      "outputs": []
    },
    {
      "cell_type": "code",
      "metadata": {
        "id": "Kkca1G6Ook43"
      },
      "source": [
        "# 実写動画をアニメ動画に変換（パプリカモデル）\n",
        "!python video2anime.py --video video/input/sakura.mp4\\\n",
        "                                     --checkpoint_dir checkpoint/generator_Paprika_weight\\\n",
        "                                     --output video/output/Paprika"
      ],
      "execution_count": null,
      "outputs": []
    }
  ]
}